{
  "cells": [
    {
      "cell_type": "code",
      "source": [
        "!pip install icecream"
      ],
      "metadata": {
        "colab": {
          "base_uri": "https://localhost:8080/"
        },
        "id": "yZKhlW99oS7X",
        "outputId": "a6164f6c-7146-43f4-e8fc-3383370bcc9d"
      },
      "execution_count": 1,
      "outputs": [
        {
          "output_type": "stream",
          "name": "stdout",
          "text": [
            "Collecting icecream\n",
            "  Downloading icecream-2.1.2-py2.py3-none-any.whl (8.3 kB)\n",
            "Requirement already satisfied: pygments>=2.2.0 in /usr/local/lib/python3.7/dist-packages (from icecream) (2.6.1)\n",
            "Collecting executing>=0.3.1\n",
            "  Downloading executing-0.8.3-py2.py3-none-any.whl (16 kB)\n",
            "Collecting asttokens>=2.0.1\n",
            "  Downloading asttokens-2.0.5-py2.py3-none-any.whl (20 kB)\n",
            "Collecting colorama>=0.3.9\n",
            "  Downloading colorama-0.4.4-py2.py3-none-any.whl (16 kB)\n",
            "Requirement already satisfied: six in /usr/local/lib/python3.7/dist-packages (from asttokens>=2.0.1->icecream) (1.15.0)\n",
            "Installing collected packages: executing, colorama, asttokens, icecream\n",
            "Successfully installed asttokens-2.0.5 colorama-0.4.4 executing-0.8.3 icecream-2.1.2\n"
          ]
        }
      ]
    },
    {
      "cell_type": "code",
      "execution_count": 2,
      "metadata": {
        "id": "tfn50X7noGKD"
      },
      "outputs": [],
      "source": [
        "# importing the libraries\n",
        "import pandas as pd\n",
        "import numpy as np\n",
        "from tqdm import tqdm\n",
        "from icecream import ic\n",
        "\n",
        "# for reading and displaying images\n",
        "from skimage.io import imread\n",
        "import matplotlib.pyplot as plt\n",
        "%matplotlib inline\n",
        "\n",
        "# for creating validation set\n",
        "from sklearn.model_selection import train_test_split\n",
        "\n",
        "# for evaluating the model\n",
        "from sklearn.metrics import accuracy_score\n",
        "\n",
        "# PyTorch libraries and modules\n",
        "import torch\n",
        "from torch.autograd import Variable\n",
        "from torch.nn import Linear, ReLU, CrossEntropyLoss, Sequential, Conv2d, MaxPool2d, Module, Softmax, BatchNorm2d, Dropout\n",
        "from torch.optim import Adam, SGD\n",
        "import torchvision\n",
        "import torch.nn.functional as F"
      ]
    },
    {
      "cell_type": "code",
      "execution_count": 3,
      "metadata": {
        "colab": {
          "base_uri": "https://localhost:8080/"
        },
        "id": "xegeXMPooGKI",
        "outputId": "bebb4c88-13a1-4b9e-caca-8aa843371cc4"
      },
      "outputs": [
        {
          "output_type": "stream",
          "name": "stdout",
          "text": [
            "CPU times: user 1 µs, sys: 1e+03 ns, total: 2 µs\n",
            "Wall time: 4.77 µs\n",
            "Cloning into 'school_image_datasets'...\n",
            "remote: Enumerating objects: 5859, done.\u001b[K\n",
            "remote: Counting objects: 100% (3/3), done.\u001b[K\n",
            "remote: Compressing objects: 100% (2/2), done.\u001b[K\n",
            "remote: Total 5859 (delta 0), reused 3 (delta 0), pack-reused 5856\u001b[K\n",
            "Receiving objects: 100% (5859/5859), 1.46 GiB | 38.16 MiB/s, done.\n",
            "Checking out files: 100% (5849/5849), done.\n"
          ]
        }
      ],
      "source": [
        "%time\n",
        "!git clone https://github.com/haroldlkh/school_image_datasets.git"
      ]
    },
    {
      "cell_type": "code",
      "execution_count": 4,
      "metadata": {
        "id": "5t8YKe61oGKK"
      },
      "outputs": [],
      "source": [
        "img_size=128\n",
        "resize = torchvision.transforms.Resize((img_size, img_size))\n",
        "to_tensor = torchvision.transforms.ToTensor()\n",
        "transform = torchvision.transforms.Compose([resize, to_tensor])\n",
        "\n",
        "ds = torchvision.datasets.ImageFolder(\"/content/school_image_datasets/data607/plant_diseases\", transform=transform)"
      ]
    },
    {
      "cell_type": "code",
      "source": [
        "n=len(ds)\n",
        "n_tr=int(n*.8)\n",
        "n_te=n-n_tr\n",
        "# n_val=int(n_te*.5)\n",
        "# n_test=n_te-n_val\n",
        "ds_train, ds_te = torch.utils.data.random_split(ds, [n_tr, n_te])\n",
        "# ds_val, ds_test = torch.utils.data.random_split(ds_te, [n_val, n_test])"
      ],
      "metadata": {
        "id": "GOEyauUApQEn"
      },
      "execution_count": 5,
      "outputs": []
    },
    {
      "cell_type": "code",
      "source": [
        "dl_train = torch.utils.data.DataLoader(ds_train, batch_size=32, shuffle=True)\n",
        "dl_val = torch.utils.data.DataLoader(ds_te, batch_size=len(ds_te))\n",
        "# dl_test = torch.utils.data.DataLoader(ds_test, batch_size=len(ds_test))\n",
        "x_val, y_val = next(iter(dl_val))\n",
        "x_val = x_val.to(0)\n",
        "y_val = y_val.to(0)"
      ],
      "metadata": {
        "id": "kvqxVhQkvcv4"
      },
      "execution_count": 6,
      "outputs": []
    },
    {
      "cell_type": "code",
      "source": [
        "dl_ = torch.utils.data.DataLoader(ds_train, batch_size=len(ds_train), shuffle=True)\n",
        "x_, y_ = next(iter(dl_))\n",
        "x_ = x_.to(0)\n",
        "y_ = y_.to(0)"
      ],
      "metadata": {
        "id": "YusL_UHI2TbR"
      },
      "execution_count": 7,
      "outputs": []
    },
    {
      "cell_type": "code",
      "source": [
        "mean = torch.mean(x_, dim=[0, 2, 3])\n",
        "std = torch.std(x_, dim=[0, 2, 3])\n",
        "print(mean, std)"
      ],
      "metadata": {
        "colab": {
          "base_uri": "https://localhost:8080/"
        },
        "id": "-CqNZZnz2cnW",
        "outputId": "1a51accd-2862-47f4-93cf-795a03bc2514"
      },
      "execution_count": 8,
      "outputs": [
        {
          "output_type": "stream",
          "name": "stdout",
          "text": [
            "tensor([0.4703, 0.5885, 0.3978], device='cuda:0') tensor([0.1839, 0.1672, 0.1921], device='cuda:0')\n"
          ]
        }
      ]
    },
    {
      "cell_type": "code",
      "source": [
        "random_horizontal_flip = torchvision.transforms.RandomHorizontalFlip()\n",
        "random_vertical_flip = torchvision.transforms.RandomVerticalFlip()\n",
        "normalise = torchvision.transforms.Normalize(mean, std)\n",
        "\n",
        "class Model(torch.nn.Module):\n",
        "  def __init__(self, feature_extractor, n_features):\n",
        "    super().__init__()\n",
        "    self.L = torch.nn.Linear(n_features, 3)\n",
        "    self.fe=feature_extractor\n",
        "    self.fe.requires_grad_(False)\n",
        "\n",
        "  def forward(self, x):\n",
        "    x = normalise(x)\n",
        "    if self.training:\n",
        "      x = random_horizontal_flip(x)\n",
        "      x = random_vertical_flip(x)\n",
        "    x = self.fe(x).squeeze()\n",
        "    x = self.L(x).squeeze()\n",
        "    return x\n",
        "\n",
        "def trainLeaves(dl_train, epochs=10, lr=.001):\n",
        "  optimizer = torch.optim.Adam(model.parameters(), lr=lr)\n",
        "  for i in tqdm(range(epochs)):\n",
        "    model.train()\n",
        "    train_losses = []\n",
        "    for x, y in dl_train:\n",
        "      y_pred = model(x.to(0))\n",
        "      train_loss = F.cross_entropy(y_pred, y.to(0))\n",
        "      train_losses.append(train_loss.item())\n",
        "      train_loss.backward()\n",
        "      optimizer.step()\n",
        "      optimizer.zero_grad()\n",
        "    model.eval()\n",
        "    with torch.no_grad():\n",
        "      y_pred = model(x_val)\n",
        "      val_loss = F.cross_entropy(y_pred, y_val)\n",
        "      val_acc = torch.mean(1.0*(torch.argmax(y_pred, axis=1) == y_val))\n",
        "      print(f\"Epoch {i+1}: mean training loss = {np.mean(train_losses):.4f}, test loss = {val_loss.item():.4f}, test accuracy = {val_acc.item():.4f}\")"
      ],
      "metadata": {
        "id": "6oRSDuTm6ptc"
      },
      "execution_count": 9,
      "outputs": []
    },
    {
      "cell_type": "code",
      "source": [
        "resnet = torchvision.models.resnet50(pretrained=True).to(0)"
      ],
      "metadata": {
        "colab": {
          "base_uri": "https://localhost:8080/",
          "height": 66,
          "referenced_widgets": [
            "54f9394fde414d25afd9c887b93aa24e",
            "c644731863a6438f93c5717e98eccb6c",
            "fa39a34c9d2642d395a438092e5dd8a2",
            "72c419dd9d9941dbaabfe6a2fe6a59fa",
            "4f846d5a7b6b4b21a753d9d4ad18713f",
            "860825f4e666425ea4ff972218c296fa",
            "9d2e70a9638f4aee8700906d83f110b9",
            "2ed551a88f9044e78895288de84dbd64",
            "71ebac26f3bd4756a35731b824f30105",
            "417b1b9dc1da40b2ac515a3ab2bd811b",
            "a74b63145a294eea9bcbcef6ce3049f6"
          ]
        },
        "id": "dRt2-YCx6xlS",
        "outputId": "35fa6236-dfdd-4ecd-c84f-f433ca2b7659"
      },
      "execution_count": 10,
      "outputs": [
        {
          "output_type": "stream",
          "name": "stderr",
          "text": [
            "Downloading: \"https://download.pytorch.org/models/resnet50-0676ba61.pth\" to /root/.cache/torch/hub/checkpoints/resnet50-0676ba61.pth\n"
          ]
        },
        {
          "output_type": "display_data",
          "data": {
            "text/plain": [
              "  0%|          | 0.00/97.8M [00:00<?, ?B/s]"
            ],
            "application/vnd.jupyter.widget-view+json": {
              "version_major": 2,
              "version_minor": 0,
              "model_id": "54f9394fde414d25afd9c887b93aa24e"
            }
          },
          "metadata": {}
        }
      ]
    },
    {
      "cell_type": "code",
      "source": [
        "feature_extractor = torch.nn.Sequential(*[child for child in resnet.children()][:-1])\n",
        "model = Model(feature_extractor, 2048).to(0)\n",
        "\n",
        "trainLeaves(dl_train)"
      ],
      "metadata": {
        "colab": {
          "base_uri": "https://localhost:8080/"
        },
        "id": "vutLo7Qu7xXt",
        "outputId": "b298ff1a-4857-4e92-870a-accae6ae7979"
      },
      "execution_count": 11,
      "outputs": [
        {
          "output_type": "stream",
          "name": "stderr",
          "text": [
            " 10%|█         | 1/10 [03:44<33:38, 224.29s/it]"
          ]
        },
        {
          "output_type": "stream",
          "name": "stdout",
          "text": [
            "Epoch 1: mean training loss = 0.7033, test loss = 0.3651, test accuracy = 0.9121\n"
          ]
        },
        {
          "output_type": "stream",
          "name": "stderr",
          "text": [
            "\r 20%|██        | 2/10 [07:27<29:50, 223.84s/it]"
          ]
        },
        {
          "output_type": "stream",
          "name": "stdout",
          "text": [
            "Epoch 2: mean training loss = 0.3387, test loss = 0.2892, test accuracy = 0.9088\n"
          ]
        },
        {
          "output_type": "stream",
          "name": "stderr",
          "text": [
            "\r 30%|███       | 3/10 [11:08<25:57, 222.44s/it]"
          ]
        },
        {
          "output_type": "stream",
          "name": "stdout",
          "text": [
            "Epoch 3: mean training loss = 0.2796, test loss = 0.2207, test accuracy = 0.9316\n"
          ]
        },
        {
          "output_type": "stream",
          "name": "stderr",
          "text": [
            "\r 40%|████      | 4/10 [14:49<22:11, 221.87s/it]"
          ]
        },
        {
          "output_type": "stream",
          "name": "stdout",
          "text": [
            "Epoch 4: mean training loss = 0.2723, test loss = 0.1877, test accuracy = 0.9544\n"
          ]
        },
        {
          "output_type": "stream",
          "name": "stderr",
          "text": [
            "\r 50%|█████     | 5/10 [18:33<18:32, 222.53s/it]"
          ]
        },
        {
          "output_type": "stream",
          "name": "stdout",
          "text": [
            "Epoch 5: mean training loss = 0.2224, test loss = 0.1769, test accuracy = 0.9446\n"
          ]
        },
        {
          "output_type": "stream",
          "name": "stderr",
          "text": [
            "\r 60%|██████    | 6/10 [22:14<14:47, 221.96s/it]"
          ]
        },
        {
          "output_type": "stream",
          "name": "stdout",
          "text": [
            "Epoch 6: mean training loss = 0.1877, test loss = 0.1866, test accuracy = 0.9381\n"
          ]
        },
        {
          "output_type": "stream",
          "name": "stderr",
          "text": [
            "\r 70%|███████   | 7/10 [25:53<11:03, 221.26s/it]"
          ]
        },
        {
          "output_type": "stream",
          "name": "stdout",
          "text": [
            "Epoch 7: mean training loss = 0.1775, test loss = 0.1577, test accuracy = 0.9446\n"
          ]
        },
        {
          "output_type": "stream",
          "name": "stderr",
          "text": [
            "\r 80%|████████  | 8/10 [29:36<07:23, 221.65s/it]"
          ]
        },
        {
          "output_type": "stream",
          "name": "stdout",
          "text": [
            "Epoch 8: mean training loss = 0.1933, test loss = 0.1615, test accuracy = 0.9577\n"
          ]
        },
        {
          "output_type": "stream",
          "name": "stderr",
          "text": [
            "\r 90%|█████████ | 9/10 [33:22<03:42, 222.92s/it]"
          ]
        },
        {
          "output_type": "stream",
          "name": "stdout",
          "text": [
            "Epoch 9: mean training loss = 0.1531, test loss = 0.1426, test accuracy = 0.9544\n"
          ]
        },
        {
          "output_type": "stream",
          "name": "stderr",
          "text": [
            "100%|██████████| 10/10 [37:04<00:00, 222.43s/it]"
          ]
        },
        {
          "output_type": "stream",
          "name": "stdout",
          "text": [
            "Epoch 10: mean training loss = 0.1696, test loss = 0.1443, test accuracy = 0.9544\n"
          ]
        },
        {
          "output_type": "stream",
          "name": "stderr",
          "text": [
            "\n"
          ]
        }
      ]
    }
  ],
  "metadata": {
    "interpreter": {
      "hash": "38eca9d58c9f6c3fbed81a4239b624a24612b152249d10498f11e918db0c5283"
    },
    "kernelspec": {
      "display_name": "Python 3.8.11 ('base')",
      "language": "python",
      "name": "python3"
    },
    "language_info": {
      "codemirror_mode": {
        "name": "ipython",
        "version": 3
      },
      "file_extension": ".py",
      "mimetype": "text/x-python",
      "name": "python",
      "nbconvert_exporter": "python",
      "pygments_lexer": "ipython3",
      "version": "3.8.11"
    },
    "orig_nbformat": 4,
    "colab": {
      "name": "pytorch test.ipynb",
      "provenance": [],
      "collapsed_sections": []
    },
    "accelerator": "GPU",
    "widgets": {
      "application/vnd.jupyter.widget-state+json": {
        "54f9394fde414d25afd9c887b93aa24e": {
          "model_module": "@jupyter-widgets/controls",
          "model_name": "HBoxModel",
          "model_module_version": "1.5.0",
          "state": {
            "_dom_classes": [],
            "_model_module": "@jupyter-widgets/controls",
            "_model_module_version": "1.5.0",
            "_model_name": "HBoxModel",
            "_view_count": null,
            "_view_module": "@jupyter-widgets/controls",
            "_view_module_version": "1.5.0",
            "_view_name": "HBoxView",
            "box_style": "",
            "children": [
              "IPY_MODEL_c644731863a6438f93c5717e98eccb6c",
              "IPY_MODEL_fa39a34c9d2642d395a438092e5dd8a2",
              "IPY_MODEL_72c419dd9d9941dbaabfe6a2fe6a59fa"
            ],
            "layout": "IPY_MODEL_4f846d5a7b6b4b21a753d9d4ad18713f"
          }
        },
        "c644731863a6438f93c5717e98eccb6c": {
          "model_module": "@jupyter-widgets/controls",
          "model_name": "HTMLModel",
          "model_module_version": "1.5.0",
          "state": {
            "_dom_classes": [],
            "_model_module": "@jupyter-widgets/controls",
            "_model_module_version": "1.5.0",
            "_model_name": "HTMLModel",
            "_view_count": null,
            "_view_module": "@jupyter-widgets/controls",
            "_view_module_version": "1.5.0",
            "_view_name": "HTMLView",
            "description": "",
            "description_tooltip": null,
            "layout": "IPY_MODEL_860825f4e666425ea4ff972218c296fa",
            "placeholder": "​",
            "style": "IPY_MODEL_9d2e70a9638f4aee8700906d83f110b9",
            "value": "100%"
          }
        },
        "fa39a34c9d2642d395a438092e5dd8a2": {
          "model_module": "@jupyter-widgets/controls",
          "model_name": "FloatProgressModel",
          "model_module_version": "1.5.0",
          "state": {
            "_dom_classes": [],
            "_model_module": "@jupyter-widgets/controls",
            "_model_module_version": "1.5.0",
            "_model_name": "FloatProgressModel",
            "_view_count": null,
            "_view_module": "@jupyter-widgets/controls",
            "_view_module_version": "1.5.0",
            "_view_name": "ProgressView",
            "bar_style": "success",
            "description": "",
            "description_tooltip": null,
            "layout": "IPY_MODEL_2ed551a88f9044e78895288de84dbd64",
            "max": 102530333,
            "min": 0,
            "orientation": "horizontal",
            "style": "IPY_MODEL_71ebac26f3bd4756a35731b824f30105",
            "value": 102530333
          }
        },
        "72c419dd9d9941dbaabfe6a2fe6a59fa": {
          "model_module": "@jupyter-widgets/controls",
          "model_name": "HTMLModel",
          "model_module_version": "1.5.0",
          "state": {
            "_dom_classes": [],
            "_model_module": "@jupyter-widgets/controls",
            "_model_module_version": "1.5.0",
            "_model_name": "HTMLModel",
            "_view_count": null,
            "_view_module": "@jupyter-widgets/controls",
            "_view_module_version": "1.5.0",
            "_view_name": "HTMLView",
            "description": "",
            "description_tooltip": null,
            "layout": "IPY_MODEL_417b1b9dc1da40b2ac515a3ab2bd811b",
            "placeholder": "​",
            "style": "IPY_MODEL_a74b63145a294eea9bcbcef6ce3049f6",
            "value": " 97.8M/97.8M [00:00&lt;00:00, 132MB/s]"
          }
        },
        "4f846d5a7b6b4b21a753d9d4ad18713f": {
          "model_module": "@jupyter-widgets/base",
          "model_name": "LayoutModel",
          "model_module_version": "1.2.0",
          "state": {
            "_model_module": "@jupyter-widgets/base",
            "_model_module_version": "1.2.0",
            "_model_name": "LayoutModel",
            "_view_count": null,
            "_view_module": "@jupyter-widgets/base",
            "_view_module_version": "1.2.0",
            "_view_name": "LayoutView",
            "align_content": null,
            "align_items": null,
            "align_self": null,
            "border": null,
            "bottom": null,
            "display": null,
            "flex": null,
            "flex_flow": null,
            "grid_area": null,
            "grid_auto_columns": null,
            "grid_auto_flow": null,
            "grid_auto_rows": null,
            "grid_column": null,
            "grid_gap": null,
            "grid_row": null,
            "grid_template_areas": null,
            "grid_template_columns": null,
            "grid_template_rows": null,
            "height": null,
            "justify_content": null,
            "justify_items": null,
            "left": null,
            "margin": null,
            "max_height": null,
            "max_width": null,
            "min_height": null,
            "min_width": null,
            "object_fit": null,
            "object_position": null,
            "order": null,
            "overflow": null,
            "overflow_x": null,
            "overflow_y": null,
            "padding": null,
            "right": null,
            "top": null,
            "visibility": null,
            "width": null
          }
        },
        "860825f4e666425ea4ff972218c296fa": {
          "model_module": "@jupyter-widgets/base",
          "model_name": "LayoutModel",
          "model_module_version": "1.2.0",
          "state": {
            "_model_module": "@jupyter-widgets/base",
            "_model_module_version": "1.2.0",
            "_model_name": "LayoutModel",
            "_view_count": null,
            "_view_module": "@jupyter-widgets/base",
            "_view_module_version": "1.2.0",
            "_view_name": "LayoutView",
            "align_content": null,
            "align_items": null,
            "align_self": null,
            "border": null,
            "bottom": null,
            "display": null,
            "flex": null,
            "flex_flow": null,
            "grid_area": null,
            "grid_auto_columns": null,
            "grid_auto_flow": null,
            "grid_auto_rows": null,
            "grid_column": null,
            "grid_gap": null,
            "grid_row": null,
            "grid_template_areas": null,
            "grid_template_columns": null,
            "grid_template_rows": null,
            "height": null,
            "justify_content": null,
            "justify_items": null,
            "left": null,
            "margin": null,
            "max_height": null,
            "max_width": null,
            "min_height": null,
            "min_width": null,
            "object_fit": null,
            "object_position": null,
            "order": null,
            "overflow": null,
            "overflow_x": null,
            "overflow_y": null,
            "padding": null,
            "right": null,
            "top": null,
            "visibility": null,
            "width": null
          }
        },
        "9d2e70a9638f4aee8700906d83f110b9": {
          "model_module": "@jupyter-widgets/controls",
          "model_name": "DescriptionStyleModel",
          "model_module_version": "1.5.0",
          "state": {
            "_model_module": "@jupyter-widgets/controls",
            "_model_module_version": "1.5.0",
            "_model_name": "DescriptionStyleModel",
            "_view_count": null,
            "_view_module": "@jupyter-widgets/base",
            "_view_module_version": "1.2.0",
            "_view_name": "StyleView",
            "description_width": ""
          }
        },
        "2ed551a88f9044e78895288de84dbd64": {
          "model_module": "@jupyter-widgets/base",
          "model_name": "LayoutModel",
          "model_module_version": "1.2.0",
          "state": {
            "_model_module": "@jupyter-widgets/base",
            "_model_module_version": "1.2.0",
            "_model_name": "LayoutModel",
            "_view_count": null,
            "_view_module": "@jupyter-widgets/base",
            "_view_module_version": "1.2.0",
            "_view_name": "LayoutView",
            "align_content": null,
            "align_items": null,
            "align_self": null,
            "border": null,
            "bottom": null,
            "display": null,
            "flex": null,
            "flex_flow": null,
            "grid_area": null,
            "grid_auto_columns": null,
            "grid_auto_flow": null,
            "grid_auto_rows": null,
            "grid_column": null,
            "grid_gap": null,
            "grid_row": null,
            "grid_template_areas": null,
            "grid_template_columns": null,
            "grid_template_rows": null,
            "height": null,
            "justify_content": null,
            "justify_items": null,
            "left": null,
            "margin": null,
            "max_height": null,
            "max_width": null,
            "min_height": null,
            "min_width": null,
            "object_fit": null,
            "object_position": null,
            "order": null,
            "overflow": null,
            "overflow_x": null,
            "overflow_y": null,
            "padding": null,
            "right": null,
            "top": null,
            "visibility": null,
            "width": null
          }
        },
        "71ebac26f3bd4756a35731b824f30105": {
          "model_module": "@jupyter-widgets/controls",
          "model_name": "ProgressStyleModel",
          "model_module_version": "1.5.0",
          "state": {
            "_model_module": "@jupyter-widgets/controls",
            "_model_module_version": "1.5.0",
            "_model_name": "ProgressStyleModel",
            "_view_count": null,
            "_view_module": "@jupyter-widgets/base",
            "_view_module_version": "1.2.0",
            "_view_name": "StyleView",
            "bar_color": null,
            "description_width": ""
          }
        },
        "417b1b9dc1da40b2ac515a3ab2bd811b": {
          "model_module": "@jupyter-widgets/base",
          "model_name": "LayoutModel",
          "model_module_version": "1.2.0",
          "state": {
            "_model_module": "@jupyter-widgets/base",
            "_model_module_version": "1.2.0",
            "_model_name": "LayoutModel",
            "_view_count": null,
            "_view_module": "@jupyter-widgets/base",
            "_view_module_version": "1.2.0",
            "_view_name": "LayoutView",
            "align_content": null,
            "align_items": null,
            "align_self": null,
            "border": null,
            "bottom": null,
            "display": null,
            "flex": null,
            "flex_flow": null,
            "grid_area": null,
            "grid_auto_columns": null,
            "grid_auto_flow": null,
            "grid_auto_rows": null,
            "grid_column": null,
            "grid_gap": null,
            "grid_row": null,
            "grid_template_areas": null,
            "grid_template_columns": null,
            "grid_template_rows": null,
            "height": null,
            "justify_content": null,
            "justify_items": null,
            "left": null,
            "margin": null,
            "max_height": null,
            "max_width": null,
            "min_height": null,
            "min_width": null,
            "object_fit": null,
            "object_position": null,
            "order": null,
            "overflow": null,
            "overflow_x": null,
            "overflow_y": null,
            "padding": null,
            "right": null,
            "top": null,
            "visibility": null,
            "width": null
          }
        },
        "a74b63145a294eea9bcbcef6ce3049f6": {
          "model_module": "@jupyter-widgets/controls",
          "model_name": "DescriptionStyleModel",
          "model_module_version": "1.5.0",
          "state": {
            "_model_module": "@jupyter-widgets/controls",
            "_model_module_version": "1.5.0",
            "_model_name": "DescriptionStyleModel",
            "_view_count": null,
            "_view_module": "@jupyter-widgets/base",
            "_view_module_version": "1.2.0",
            "_view_name": "StyleView",
            "description_width": ""
          }
        }
      }
    }
  },
  "nbformat": 4,
  "nbformat_minor": 0
}